{
 "cells": [
  {
   "cell_type": "code",
   "execution_count": 1,
   "metadata": {},
   "outputs": [],
   "source": [
    "import matplotlib.pyplot as plt\n",
    "import numpy as np\n",
    "import random\n",
    "import copy\n",
    "from PIL import Image"
   ]
  },
  {
   "cell_type": "code",
   "execution_count": 2,
   "metadata": {},
   "outputs": [],
   "source": [
    "def create_artboard(rows, cols):\n",
    "    return np.zeros([rows, cols])\n",
    "\n",
    "def create_empty_target(rows, cols):\n",
    "    return np.zeros([rows, cols])"
   ]
  },
  {
   "cell_type": "code",
   "execution_count": 11,
   "metadata": {},
   "outputs": [
    {
     "data": {
      "text/plain": [
       "(198, 300)"
      ]
     },
     "execution_count": 11,
     "metadata": {},
     "output_type": "execute_result"
    }
   ],
   "source": [
    "# Initialize sheapeg\n",
    "\n",
    "sheapeg = Image.open('shea-coulee.png').convert('L')\n",
    "\n",
    "basewidth = 300\n",
    "img = sheapeg\n",
    "wpercent = (basewidth/float(img.size[0]))\n",
    "hsize = int((float(img.size[1])*float(wpercent)))\n",
    "sheapeg_small = img.resize((basewidth,hsize), Image.ANTIALIAS)\n",
    "sheapeg = sheapeg_small\n",
    "shea = np.asarray(sheapeg)\n",
    "\n",
    "shea.shape"
   ]
  },
  {
   "cell_type": "code",
   "execution_count": 580,
   "metadata": {},
   "outputs": [],
   "source": [
    "def process_pic(image_path, target_width=300):\n",
    "    \n",
    "#     open image and convert to grayscale. image can be jpeg or png\n",
    "    processed_pic = Image.open(image_path).convert('L')\n",
    "\n",
    "#     resize image to match specified width while maintaining ratio\n",
    "    basewidth = target_width\n",
    "    wpercent = (basewidth/float(processed_pic.size[0]))\n",
    "    hsize = int((float(processed_pic.size[1])*float(wpercent)))\n",
    "    processed_pic = processed_pic.resize((basewidth, hsize), Image.ANTIALIAS)\n",
    "    \n",
    "#     convert to numpy array\n",
    "    processed_pic = np.asarray(processed_pic)\n",
    "    \n",
    "    print('shape:', processed_pic.shape)\n",
    "    \n",
    "    return processed_pic\n",
    "\n",
    "# topoimage = Image.open('jeff-topo-pic.jpg').convert('L')\n",
    "# basewidth = 500\n",
    "# img = topoimage\n",
    "# wpercent = (basewidth/float(img.size[0]))\n",
    "# hsize = int((float(img.size[1])*float(wpercent)))\n",
    "# topo_small = img.resize((basewidth,hsize), Image.ANTIALIAS)\n",
    "# topoimage = topo_small\n",
    "# topo = np.asarray(topoimage)\n",
    "\n",
    "# topo.shape"
   ]
  },
  {
   "cell_type": "code",
   "execution_count": 3,
   "metadata": {},
   "outputs": [],
   "source": [
    "def add_random_square(artboard):\n",
    "    \n",
    "    neighbor_positions = [(-1, -1), (-1, 0), (-1, 1), (0, -1), (0, 0), (0, 1), (1, -1), (1, 0), (1, 1)]\n",
    "    \n",
    "    rows = len(artboard)\n",
    "    cols = len(artboard[0])\n",
    "\n",
    "    ## pick a random cell in the artboard that is not on the border\n",
    "    random_row = random.randint(1, rows - 2)\n",
    "    random_col = random.randint(1, cols - 2)\n",
    "\n",
    "    ## modify all of its neighbors\n",
    "    for relative_position in neighbor_positions:\n",
    "        absolute_row = relative_position[0] + random_row\n",
    "        absolute_col = relative_position[1] + random_col\n",
    "#         if artboard[absolute_row][absolute_col] < 1:\n",
    "        if artboard[absolute_row][absolute_col] < 215:\n",
    "#             artboard[absolute_row][absolute_col] += 0.1\n",
    "            artboard[absolute_row][absolute_col] += 40\n",
    "    \n",
    "    return artboard\n"
   ]
  },
  {
   "cell_type": "code",
   "execution_count": 4,
   "metadata": {},
   "outputs": [],
   "source": [
    "def add_random_variable_rectangle(artboard, rect_rows, rect_cols):\n",
    "    \n",
    "#     get relative locations of all values to be written, where 0, 0 is top left location\n",
    "    cell_positions_from_top_left = []\n",
    "    \n",
    "    for i in range(rect_rows):\n",
    "        for j in range(rect_cols):\n",
    "            cell_positions_from_top_left.append((i, j))\n",
    "\n",
    "    artboard_rows = len(artboard)\n",
    "    artboard_cols = len(artboard[0])\n",
    "\n",
    "    ## pick a random cell in the artboard that is not on the border\n",
    "    random_row = random.randint(0, artboard_rows - rect_rows)\n",
    "    random_col = random.randint(0, artboard_cols - rect_cols)\n",
    "\n",
    "    ## modify all of its neighbors\n",
    "    for relative_position in cell_positions_from_top_left:\n",
    "        absolute_row = relative_position[0] + random_row\n",
    "        absolute_col = relative_position[1] + random_col\n",
    "#         if artboard[absolute_row][absolute_col] < 1:\n",
    "        if artboard[absolute_row][absolute_col] < 215:\n",
    "#             artboard[absolute_row][absolute_col] += 0.1\n",
    "            artboard[absolute_row][absolute_col] += 40\n",
    "    \n",
    "    return artboard"
   ]
  },
  {
   "cell_type": "code",
   "execution_count": 17,
   "metadata": {},
   "outputs": [],
   "source": [
    "def draw(artboard, target, rect_rows, rect_cols, iterations):\n",
    "    \"\"\"generate a number (iterations) of artboards with random shapes drawn and pick the highest scoring one to keep\"\"\"\n",
    "    \n",
    "    result = copy.deepcopy(artboard)\n",
    "    \n",
    "#     get current artboard score to evaluate against\n",
    "    current_score = score(artboard, target)\n",
    "    count_added = 0\n",
    "    \n",
    "    for i in range(iterations):\n",
    "    #     create a temporary artboard\n",
    "        temp_artboard = copy.deepcopy(result)\n",
    "        \n",
    "    #     add random rectangle to temp artboard\n",
    "        add_random_variable_rectangle(temp_artboard, rect_rows=rect_rows, rect_cols=rect_cols)\n",
    "        \n",
    "    #     see if that square made an improvement. if so, assign temp_artboard to artboard\n",
    "        if score(temp_artboard, target) > current_score:\n",
    "            result = copy.deepcopy(temp_artboard)\n",
    "            current_score = score(temp_artboard, target)\n",
    "            count_added += 1\n",
    "    \n",
    "    print('previous score: ', score(artboard, target))\n",
    "    print('current score: ', current_score)\n",
    "    print('total added: ', count_added)\n",
    "    print('percent improvement: ', ((1 - current_score/score(artboard, target)) * 100))\n",
    "    \n",
    "    return result\n",
    "        "
   ]
  },
  {
   "cell_type": "code",
   "execution_count": 18,
   "metadata": {},
   "outputs": [],
   "source": [
    "def score(artboard, target):\n",
    "    \n",
    "    score = 0\n",
    "    max_score = len(artboard) * len(artboard[0])\n",
    "    \n",
    "    rows = len(artboard)\n",
    "    cols = len(artboard[0])\n",
    "    \n",
    "    if rows != len(target) or cols != len(target[0]):\n",
    "        return 'target and artboard are not the same size!'\n",
    "    \n",
    "    summed_difference = 0\n",
    "    \n",
    "    for i, row in enumerate(artboard):\n",
    "        for j, col in enumerate(row):\n",
    "            summed_difference += abs(artboard[i][j] - target[i][j])\n",
    "    \n",
    "#     for pair in change_locations:\n",
    "#         summed_difference += abs(artboard[pair[0]][pair[1]] - target[pair[0]][pair[1]])\n",
    "    \n",
    "    score = max_score - summed_difference\n",
    "    \n",
    "#     BEWARE! little validation was done on this funciton - is this summing the differences as expected?\n",
    "    \n",
    "    return score"
   ]
  },
  {
   "cell_type": "markdown",
   "metadata": {},
   "source": [
    "Let's make some art!"
   ]
  },
  {
   "cell_type": "code",
   "execution_count": 727,
   "metadata": {},
   "outputs": [
    {
     "name": "stdout",
     "output_type": "stream",
     "text": [
      "('shape:', (225, 300))\n"
     ]
    }
   ],
   "source": [
    "tim_pic = process_pic('tim_trees.jpg')"
   ]
  },
  {
   "cell_type": "code",
   "execution_count": 728,
   "metadata": {},
   "outputs": [],
   "source": [
    "tim_artboard = create_artboard(225, 300)"
   ]
  },
  {
   "cell_type": "code",
   "execution_count": 756,
   "metadata": {},
   "outputs": [],
   "source": [
    "tim_artboard = draw(artboard=tim_artboard, target=tim_pic, rect_rows=2, rect_cols=2, iterations=1000)"
   ]
  },
  {
   "cell_type": "code",
   "execution_count": 770,
   "metadata": {},
   "outputs": [
    {
     "data": {
      "text/plain": [
       "<matplotlib.image.AxesImage at 0x1384469d0>"
      ]
     },
     "execution_count": 770,
     "metadata": {},
     "output_type": "execute_result"
    },
    {
     "data": {
      "image/png": "[encoded data removed]",
      "text/plain": [
       "<Figure size 432x288 with 1 Axes>"
      ]
     },
     "metadata": {
      "needs_background": "light"
     },
     "output_type": "display_data"
    }
   ],
   "source": [
    "plt.imshow(tim_artboard, cmap=\"summer\")"
   ]
  },
  {
   "cell_type": "code",
   "execution_count": 769,
   "metadata": {},
   "outputs": [],
   "source": [
    "for i, row in enumerate(tim_artboard):\n",
    "    for j, value in enumerate(row):\n",
    "        tim_artboard[i][j] = 255 - value"
   ]
  },
  {
   "cell_type": "code",
   "execution_count": null,
   "metadata": {},
   "outputs": [],
   "source": []
  },
  {
   "cell_type": "code",
   "execution_count": null,
   "metadata": {},
   "outputs": [],
   "source": []
  },
  {
   "cell_type": "code",
   "execution_count": null,
   "metadata": {},
   "outputs": [],
   "source": []
  },
  {
   "cell_type": "code",
   "execution_count": null,
   "metadata": {},
   "outputs": [],
   "source": []
  },
  {
   "cell_type": "code",
   "execution_count": null,
   "metadata": {},
   "outputs": [],
   "source": []
  },
  {
   "cell_type": "markdown",
   "metadata": {},
   "source": [
    "# New functions - not working yet"
   ]
  },
  {
   "cell_type": "code",
   "execution_count": 584,
   "metadata": {},
   "outputs": [],
   "source": [
    "def add_random_variable_rectangle_and_report_change_locations(artboard, rect_rows, rect_cols):\n",
    "    \n",
    "#     get relative locations of all values to be written, where 0, 0 is top left location\n",
    "    cell_positions_from_top_left = []\n",
    "    \n",
    "    for i in range(rect_rows):\n",
    "        for j in range(rect_cols):\n",
    "            cell_positions_from_top_left.append((i, j))\n",
    "\n",
    "    artboard_rows = len(artboard)\n",
    "    artboard_cols = len(artboard[0])\n",
    "\n",
    "    ## pick a random cell in the artboard that is not on the border\n",
    "    random_row = random.randint(0, artboard_rows - rect_rows)\n",
    "    random_col = random.randint(0, artboard_cols - rect_cols)\n",
    "\n",
    "    ## modify and record locations of all of its neighbors\n",
    "    locations = []\n",
    "    for relative_position in cell_positions_from_top_left:\n",
    "        absolute_row = relative_position[0] + random_row\n",
    "        absolute_col = relative_position[1] + random_col\n",
    "        if artboard[absolute_row][absolute_col] < 215:\n",
    "            artboard[absolute_row][absolute_col] += 40\n",
    "            locations.append((absolute_row, absolute_col))\n",
    "            \n",
    "    \n",
    "    return artboard, locations"
   ]
  },
  {
   "cell_type": "code",
   "execution_count": 585,
   "metadata": {},
   "outputs": [],
   "source": [
    "def draw(artboard, target, rect_rows, rect_cols, iterations):\n",
    "    \"\"\"generate a number (iterations) of artboards with random shapes drawn and pick the highest scoring one to keep\"\"\"\n",
    "    \n",
    "    result = copy.deepcopy(artboard)\n",
    "#     print('copied artboard')\n",
    "    \n",
    "#     get current artboard score to evaluate against\n",
    "#     current_score = score(artboard, target)\n",
    "    count_added = 0\n",
    "    \n",
    "    for i in range(iterations):\n",
    "#         print('iterating')\n",
    "        \n",
    "    #     create a temporary artboard\n",
    "        temp_artboard = copy.deepcopy(result)\n",
    "        \n",
    "    #     add random rectangle to temp artboard\n",
    "        temp_artboard, locations = add_random_variable_rectangle_and_report_change_locations(temp_artboard, rect_rows=rect_rows, rect_cols=rect_cols)\n",
    "        \n",
    "    #     see if that square made an improvement. if so, assign temp_artboard to artboard\n",
    "#         if score(temp_artboard, target, locations) > current_score:\n",
    "        if score(temp_artboard, target, locations) > score(artboard, target, locations):\n",
    "#             print('random addition is improvement')\n",
    "            result = copy.deepcopy(temp_artboard)\n",
    "            current_score = score(temp_artboard, target, locations)\n",
    "            count_added += 1\n",
    "    \n",
    "#     print('previous score: ', score(artboard, target))\n",
    "#     print('current score: ', current_score)\n",
    "#     print('total added: ', count_added)\n",
    "#     print('percent improvement: ', ((1 - current_score/score(artboard, target)) * 100))\n",
    "    \n",
    "    return result"
   ]
  },
  {
   "cell_type": "code",
   "execution_count": 586,
   "metadata": {},
   "outputs": [],
   "source": [
    "def score(artboard, target, locations=None):\n",
    "    \n",
    "#     print('scoring')\n",
    "    \n",
    "    score = 0\n",
    "    max_score = len(artboard) * len(artboard[0])\n",
    "#     max score is one point per cell\n",
    "    \n",
    "    rows = len(artboard)\n",
    "    cols = len(artboard[0])\n",
    "    \n",
    "    if rows != len(target) or cols != len(target[0]):\n",
    "#         print('errorrr')\n",
    "        return 'target and artboard are not the same size!'\n",
    "    \n",
    "    total_percent_difference = 0\n",
    "    \n",
    "#     for each cell, calculate percent difference between target and artboard by taking min(target, artboard)/max(target, artboard)\n",
    "    \n",
    "    if not locations:\n",
    "#         print('no locations!')\n",
    "        for i, row in enumerate(artboard):\n",
    "            for j, col in enumerate(row):\n",
    "                target_value = target[i][j]\n",
    "                artboard_value = artboard[i][j]\n",
    "#                 total_percent_difference = abs(target_value - artboard_value)/target_value\n",
    "#                 total_percent_difference += min(target_value, artboard_value)/max(target_value, artboard_value)\n",
    "#                 print(target_value, artboard_value)\n",
    "                squared_difference = (target_value - artboard_value)**2\n",
    "    else:\n",
    "#         print('got locations')\n",
    "        for pair in locations:\n",
    "#             print('scoring', pair)\n",
    "            target_value = target[pair[0]][pair[1]]\n",
    "            artboard_value = artboard[pair[0]][pair[1]]\n",
    "#             total_percent_difference += abs(artboard[pair[0]][pair[1]] - target[pair[0]][pair[1]])\n",
    "#             total_percent_difference += (1 - abs(artboard[pair[0]][pair[1]] - target[pair[0]][pair[1]])/255)\n",
    "#             print('TPD: ', total_percent_difference)\n",
    "            squared_difference = (artboard[pair[0]][pair[1]] - target[pair[0]][pair[1]])**2\n",
    "    \n",
    "    score = squared_difference * -1\n",
    "    \n",
    "#     print(score)\n",
    "    \n",
    "    return score"
   ]
  },
  {
   "cell_type": "code",
   "execution_count": null,
   "metadata": {},
   "outputs": [],
   "source": []
  },
  {
   "cell_type": "code",
   "execution_count": null,
   "metadata": {},
   "outputs": [],
   "source": []
  },
  {
   "cell_type": "code",
   "execution_count": 523,
   "metadata": {},
   "outputs": [],
   "source": [
    "zartboard = create_artboard(198, 300)"
   ]
  },
  {
   "cell_type": "code",
   "execution_count": 524,
   "metadata": {},
   "outputs": [],
   "source": [
    "ztarget = shea"
   ]
  },
  {
   "cell_type": "code",
   "execution_count": 557,
   "metadata": {},
   "outputs": [],
   "source": [
    "zartboard = draw(artboard=zartboard, target=ztarget, iterations=1000, rect_cols=1, rect_rows=2)"
   ]
  },
  {
   "cell_type": "code",
   "execution_count": 558,
   "metadata": {},
   "outputs": [
    {
     "data": {
      "text/plain": [
       "<matplotlib.image.AxesImage at 0x12d8cebd0>"
      ]
     },
     "execution_count": 558,
     "metadata": {},
     "output_type": "execute_result"
    },
    {
     "data": {
      "image/png": "[encoded data removed]",
      "text/plain": [
       "<Figure size 432x288 with 1 Axes>"
      ]
     },
     "metadata": {
      "needs_background": "light"
     },
     "output_type": "display_data"
    }
   ],
   "source": [
    "plt.imshow(zartboard)"
   ]
  },
  {
   "cell_type": "code",
   "execution_count": null,
   "metadata": {},
   "outputs": [],
   "source": []
  },
  {
   "cell_type": "code",
   "execution_count": 284,
   "metadata": {},
   "outputs": [],
   "source": [
    "new_artboard = create_artboard(10, 15)"
   ]
  },
  {
   "cell_type": "code",
   "execution_count": 285,
   "metadata": {},
   "outputs": [],
   "source": [
    "new_target = np.array([[0., 0., 0., 0., 0., 0., 0., 0., 0., 0., 0., 0., 0., 0., 0.],\n",
    "       [0., 0., 0., 0., 200., 200., 0., 0., 0., 0., 0., 0., 0., 0., 0.],\n",
    "       [0., 0., 0., 0., 200., 200., 0., 0., 0., 0., 0., 0., 0., 0., 0.],\n",
    "       [0., 0., 0., 0., 0., 200., 0., 0., 0., 0., 0., 0., 0., 0., 0.],\n",
    "       [0., 0., 0., 0., 0., 200., 0., 0., 0., 0., 0., 0., 0., 0., 0.],\n",
    "       [0., 0., 0., 0., 0., 200., 0., 0., 0., 0., 0., 0., 0., 0., 0.],\n",
    "       [0., 0., 0., 0., 0., 0., 200., 0., 0., 0., 0., 0., 0., 0., 0.],\n",
    "       [0., 0., 0., 0., 0., 0., 200., 0., 0., 0., 0., 0., 0., 0., 0.],\n",
    "       [0., 0., 0., 0., 0., 0., 0., 0., 0., 0., 0., 0., 0., 0., 0.],\n",
    "       [0., 0., 0., 0., 0., 0., 0., 0., 0., 0., 0., 0., 0., 0., 0.]])"
   ]
  },
  {
   "cell_type": "code",
   "execution_count": 286,
   "metadata": {},
   "outputs": [
    {
     "data": {
      "text/plain": [
       "<matplotlib.image.AxesImage at 0x121706590>"
      ]
     },
     "execution_count": 286,
     "metadata": {},
     "output_type": "execute_result"
    },
    {
     "data": {
      "image/png": "[encoded data removed]",
      "text/plain": [
       "<Figure size 432x288 with 1 Axes>"
      ]
     },
     "metadata": {
      "needs_background": "light"
     },
     "output_type": "display_data"
    }
   ],
   "source": [
    "plt.imshow(new_target)"
   ]
  },
  {
   "cell_type": "code",
   "execution_count": 289,
   "metadata": {},
   "outputs": [
    {
     "data": {
      "text/plain": [
       "(10, 15)"
      ]
     },
     "execution_count": 289,
     "metadata": {},
     "output_type": "execute_result"
    }
   ],
   "source": [
    "new_target.shape"
   ]
  },
  {
   "cell_type": "code",
   "execution_count": 290,
   "metadata": {},
   "outputs": [
    {
     "data": {
      "text/plain": [
       "(10, 15)"
      ]
     },
     "execution_count": 290,
     "metadata": {},
     "output_type": "execute_result"
    }
   ],
   "source": [
    "new_artboard.shape"
   ]
  },
  {
   "cell_type": "code",
   "execution_count": 297,
   "metadata": {},
   "outputs": [
    {
     "name": "stdout",
     "output_type": "stream",
     "text": [
      "copied artboard\n",
      "iterating\n",
      "got locations\n",
      "('scoring', (4, 7))\n",
      "('scoring', (4, 8))\n",
      "('scoring', (5, 7))\n",
      "('scoring', (5, 8))\n",
      "got locations\n",
      "('scoring', (4, 7))\n",
      "('scoring', (4, 8))\n",
      "('scoring', (5, 7))\n",
      "('scoring', (5, 8))\n",
      "iterating\n",
      "got locations\n",
      "('scoring', (6, 7))\n",
      "('scoring', (6, 8))\n",
      "('scoring', (7, 7))\n",
      "('scoring', (7, 8))\n",
      "got locations\n",
      "('scoring', (6, 7))\n",
      "('scoring', (6, 8))\n",
      "('scoring', (7, 7))\n",
      "('scoring', (7, 8))\n",
      "iterating\n",
      "got locations\n",
      "('scoring', (4, 8))\n",
      "('scoring', (4, 9))\n",
      "('scoring', (5, 8))\n",
      "('scoring', (5, 9))\n",
      "got locations\n",
      "('scoring', (4, 8))\n",
      "('scoring', (4, 9))\n",
      "('scoring', (5, 8))\n",
      "('scoring', (5, 9))\n",
      "iterating\n",
      "got locations\n",
      "('scoring', (7, 4))\n",
      "('scoring', (7, 5))\n",
      "('scoring', (8, 4))\n",
      "('scoring', (8, 5))\n",
      "got locations\n",
      "('scoring', (7, 4))\n",
      "('scoring', (7, 5))\n",
      "('scoring', (8, 4))\n",
      "('scoring', (8, 5))\n",
      "iterating\n",
      "got locations\n",
      "('scoring', (8, 7))\n",
      "('scoring', (8, 8))\n",
      "('scoring', (9, 7))\n",
      "('scoring', (9, 8))\n",
      "got locations\n",
      "('scoring', (8, 7))\n",
      "('scoring', (8, 8))\n",
      "('scoring', (9, 7))\n",
      "('scoring', (9, 8))\n",
      "iterating\n",
      "got locations\n",
      "('scoring', (1, 3))\n",
      "('scoring', (1, 4))\n",
      "('scoring', (2, 3))\n",
      "('scoring', (2, 4))\n",
      "got locations\n",
      "('scoring', (1, 3))\n",
      "('scoring', (1, 4))\n",
      "('scoring', (2, 3))\n",
      "('scoring', (2, 4))\n",
      "random addition is improvement\n",
      "got locations\n",
      "('scoring', (1, 3))\n",
      "('scoring', (1, 4))\n",
      "('scoring', (2, 3))\n",
      "('scoring', (2, 4))\n",
      "iterating\n",
      "got locations\n",
      "('scoring', (4, 5))\n",
      "('scoring', (4, 6))\n",
      "('scoring', (5, 5))\n",
      "('scoring', (5, 6))\n",
      "got locations\n",
      "('scoring', (4, 5))\n",
      "('scoring', (4, 6))\n",
      "('scoring', (5, 5))\n",
      "('scoring', (5, 6))\n",
      "iterating\n",
      "got locations\n",
      "('scoring', (0, 12))\n",
      "('scoring', (0, 13))\n",
      "('scoring', (1, 12))\n",
      "('scoring', (1, 13))\n",
      "got locations\n",
      "('scoring', (0, 12))\n",
      "('scoring', (0, 13))\n",
      "('scoring', (1, 12))\n",
      "('scoring', (1, 13))\n",
      "iterating\n",
      "got locations\n",
      "('scoring', (7, 11))\n",
      "('scoring', (7, 12))\n",
      "('scoring', (8, 11))\n",
      "('scoring', (8, 12))\n",
      "got locations\n",
      "('scoring', (7, 11))\n",
      "('scoring', (7, 12))\n",
      "('scoring', (8, 11))\n",
      "('scoring', (8, 12))\n",
      "iterating\n",
      "got locations\n",
      "('scoring', (5, 4))\n",
      "('scoring', (5, 5))\n",
      "('scoring', (6, 4))\n",
      "('scoring', (6, 5))\n",
      "got locations\n",
      "('scoring', (5, 4))\n",
      "('scoring', (5, 5))\n",
      "('scoring', (6, 4))\n",
      "('scoring', (6, 5))\n"
     ]
    }
   ],
   "source": [
    "new_artboard = draw(artboard=new_artboard, target=new_target, iterations=10, rect_cols=2, rect_rows=2)"
   ]
  },
  {
   "cell_type": "code",
   "execution_count": 298,
   "metadata": {},
   "outputs": [
    {
     "data": {
      "text/plain": [
       "<matplotlib.image.AxesImage at 0x121b66d50>"
      ]
     },
     "execution_count": 298,
     "metadata": {},
     "output_type": "execute_result"
    },
    {
     "data": {
      "image/png": "[encoded data removed]",
      "text/plain": [
       "<Figure size 432x288 with 1 Axes>"
      ]
     },
     "metadata": {
      "needs_background": "light"
     },
     "output_type": "display_data"
    }
   ],
   "source": [
    "plt.imshow(new_artboard)"
   ]
  },
  {
   "cell_type": "code",
   "execution_count": null,
   "metadata": {},
   "outputs": [],
   "source": []
  }
 ],
 "metadata": {
  "kernelspec": {
   "display_name": "Python 2",
   "language": "python",
   "name": "python2"
  },
  "language_info": {
   "codemirror_mode": {
    "name": "ipython",
    "version": 2
   },
   "file_extension": ".py",
   "mimetype": "text/x-python",
   "name": "python",
   "nbconvert_exporter": "python",
   "pygments_lexer": "ipython2",
   "version": "2.7.16"
  }
 },
 "nbformat": 4,
 "nbformat_minor": 2
}
